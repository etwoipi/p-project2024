{
 "cells": [
  {
   "cell_type": "code",
   "execution_count": null,
   "metadata": {},
   "outputs": [],
   "source": []
  },
  {
   "cell_type": "code",
   "execution_count": 1,
   "metadata": {},
   "outputs": [
    {
     "name": "stdout",
     "output_type": "stream",
     "text": [
      "Requirement already satisfied: ase in /home/oem/anaconda3/envs/phy20/lib/python3.8/site-packages (3.23.0)\n",
      "Requirement already satisfied: numpy>=1.18.5 in /home/oem/anaconda3/envs/phy20/lib/python3.8/site-packages (from ase) (1.19.2)\n",
      "Requirement already satisfied: scipy>=1.6.0 in /home/oem/anaconda3/envs/phy20/lib/python3.8/site-packages (from ase) (1.10.1)\n",
      "Requirement already satisfied: matplotlib>=3.3.4 in /home/oem/anaconda3/envs/phy20/lib/python3.8/site-packages (from ase) (3.7.5)\n",
      "Requirement already satisfied: python-dateutil>=2.7 in /home/oem/anaconda3/envs/phy20/lib/python3.8/site-packages (from matplotlib>=3.3.4->ase) (2.8.1)\n",
      "Requirement already satisfied: fonttools>=4.22.0 in /home/oem/anaconda3/envs/phy20/lib/python3.8/site-packages (from matplotlib>=3.3.4->ase) (4.55.3)\n",
      "Requirement already satisfied: cycler>=0.10 in /home/oem/anaconda3/envs/phy20/lib/python3.8/site-packages (from matplotlib>=3.3.4->ase) (0.10.0)\n",
      "Requirement already satisfied: pyparsing>=2.3.1 in /home/oem/anaconda3/envs/phy20/lib/python3.8/site-packages (from matplotlib>=3.3.4->ase) (2.4.7)\n",
      "Requirement already satisfied: contourpy>=1.0.1 in /home/oem/anaconda3/envs/phy20/lib/python3.8/site-packages (from matplotlib>=3.3.4->ase) (1.1.1)\n",
      "Requirement already satisfied: importlib-resources>=3.2.0; python_version < \"3.10\" in /home/oem/anaconda3/envs/phy20/lib/python3.8/site-packages (from matplotlib>=3.3.4->ase) (6.4.5)\n",
      "Requirement already satisfied: pillow>=6.2.0 in /home/oem/anaconda3/envs/phy20/lib/python3.8/site-packages (from matplotlib>=3.3.4->ase) (8.0.1)\n",
      "Requirement already satisfied: packaging>=20.0 in /home/oem/anaconda3/envs/phy20/lib/python3.8/site-packages (from matplotlib>=3.3.4->ase) (20.4)\n",
      "Requirement already satisfied: kiwisolver>=1.0.1 in /home/oem/anaconda3/envs/phy20/lib/python3.8/site-packages (from matplotlib>=3.3.4->ase) (1.3.0)\n",
      "Requirement already satisfied: six>=1.5 in /home/oem/anaconda3/envs/phy20/lib/python3.8/site-packages (from python-dateutil>=2.7->matplotlib>=3.3.4->ase) (1.15.0)\n",
      "Requirement already satisfied: zipp>=3.1.0; python_version < \"3.10\" in /home/oem/anaconda3/envs/phy20/lib/python3.8/site-packages (from importlib-resources>=3.2.0; python_version < \"3.10\"->matplotlib>=3.3.4->ase) (3.4.0)\n"
     ]
    }
   ],
   "source": [
    "!pip install ase"
   ]
  },
  {
   "cell_type": "code",
   "execution_count": 2,
   "metadata": {},
   "outputs": [
    {
     "name": "stderr",
     "output_type": "stream",
     "text": [
      "/home/oem/anaconda3/envs/phy20/lib/python3.8/site-packages/scipy/__init__.py:143: UserWarning: A NumPy version >=1.19.5 and <1.27.0 is required for this version of SciPy (detected version 1.19.2)\n",
      "  warnings.warn(f\"A NumPy version >={np_minversion} and <{np_maxversion}\"\n"
     ]
    }
   ],
   "source": [
    "from ase.io import read\n",
    "from ase.calculators.espresso import Espresso\n",
    "from ase.optimize import BFGS"
   ]
  },
  {
   "cell_type": "code",
   "execution_count": 3,
   "metadata": {},
   "outputs": [],
   "source": [
    "from ase.calculators.espresso import EspressoProfile"
   ]
  },
  {
   "cell_type": "code",
   "execution_count": 4,
   "metadata": {},
   "outputs": [],
   "source": [
    "import sys, os"
   ]
  },
  {
   "cell_type": "code",
   "execution_count": 5,
   "metadata": {},
   "outputs": [
    {
     "data": {
      "text/plain": [
       "['/home/phy20',\n",
       " '/home/oem/anaconda3/envs/phy20/lib/python38.zip',\n",
       " '/home/oem/anaconda3/envs/phy20/lib/python3.8',\n",
       " '/home/oem/anaconda3/envs/phy20/lib/python3.8/lib-dynload',\n",
       " '',\n",
       " '/home/oem/anaconda3/envs/phy20/lib/python3.8/site-packages',\n",
       " '/home/oem/anaconda3/envs/phy20/lib/python3.8/site-packages/IPython/extensions',\n",
       " '/home/phy20/.ipython']"
      ]
     },
     "execution_count": 5,
     "metadata": {},
     "output_type": "execute_result"
    }
   ],
   "source": [
    "sys.path"
   ]
  },
  {
   "cell_type": "code",
   "execution_count": 10,
   "metadata": {},
   "outputs": [],
   "source": [
    "from ase.io import read\n",
    "\n",
    "def convert_cif_to_qe_input(cif_file, output_file, pseudopotentials, prefix=\"Au\"):\n",
    "    \"\"\"\n",
    "    CIF 파일을 Quantum ESPRESSO 입력 파일로 변환\n",
    "    \"\"\"\n",
    "    structure = read(cif_file)  # CIF 파일 읽기\n",
    "\n",
    "    # Quantum ESPRESSO 입력 파일 작성\n",
    "    with open(output_file, \"w\") as f:\n",
    "        f.write(f\"\"\"\n",
    "&control\n",
    "    calculation = 'vc-relax',\n",
    "    outdir = './',\n",
    "    pseudo_dir = './',\n",
    "    prefix = '{prefix}',\n",
    "/\n",
    "&system\n",
    "    ibrav = 0,\n",
    "    nat = {len(structure)},  ! 원자 개수\n",
    "    ntyp = {len(set(structure.get_chemical_symbols()))},  ! 원소 종류\n",
    "    ecutwfc = 30.0,\n",
    "    ecutrho = 240.0,\n",
    "    occupations = 'smearing',\n",
    "    smearing = 'gaussian',\n",
    "    degauss = 0.01,\n",
    "/\n",
    "&electrons\n",
    "    conv_thr = 1.0d-8,\n",
    "/\n",
    "&ions\n",
    "/\n",
    "&cell\n",
    "    cell_dofree = 'all',\n",
    "/\n",
    "\n",
    "ATOMIC_SPECIES\n",
    "{pseudopotentials}\n",
    "\n",
    "CELL_PARAMETERS angstrom\n",
    "  4.067   0.0   0.0\n",
    "   0.0  4.067   0.0\n",
    "   0.0   0.0  4.067\n",
    "\n",
    "ATOMIC_POSITIONS angstrom\n",
    "\"\"\")\n",
    "        for atom in structure:\n",
    "            f.write(f\"{atom.symbol} {atom.position[0]:.6f} {atom.position[1]:.6f} {atom.position[2]:.6f}\\n\")\n",
    "        f.write(\"\\nK_POINTS automatic\\n1 1 1 0 0 0\\n\")"
   ]
  },
  {
   "cell_type": "code",
   "execution_count": 11,
   "metadata": {},
   "outputs": [],
   "source": [
    "import subprocess\n",
    "\n",
    "def run_qe(input_file, output_file):\n",
    "    \"\"\"\n",
    "    Quantum ESPRESSO 실행\n",
    "    \"\"\"\n",
    "    qe_command = f\"/home/oem/qe-6.7/bin/pw.x < {input_file} > {output_file}\"\n",
    "    subprocess.run(qe_command, shell=True)"
   ]
  },
  {
   "cell_type": "code",
   "execution_count": 12,
   "metadata": {},
   "outputs": [],
   "source": [
    "def parse_qe_output(output_file):\n",
    "    \"\"\"\n",
    "    Quantum ESPRESSO 결과 파일 분석\n",
    "    \"\"\"\n",
    "    cell_parameters = []\n",
    "    total_energy = None\n",
    "\n",
    "    with open(output_file, \"r\") as f:\n",
    "        lines = f.readlines()\n",
    "        for i, line in enumerate(lines):\n",
    "            if \"CELL_PARAMETERS\" in line:\n",
    "                cell_parameters = [\n",
    "                    [float(x) for x in lines[i + 1].split()],\n",
    "                    [float(x) for x in lines[i + 2].split()],\n",
    "                    [float(x) for x in lines[i + 3].split()],\n",
    "                ]\n",
    "            if \"!\" in line and \"total energy\" in line:\n",
    "                total_energy = float(line.split()[-2])  # 총 에너지 추출\n",
    "    return cell_parameters, total_energy"
   ]
  },
  {
   "cell_type": "code",
   "execution_count": 13,
   "metadata": {},
   "outputs": [
    {
     "name": "stdout",
     "output_type": "stream",
     "text": [
      "최종 셀 매개변수:\n",
      "[4.593272224, 2.6e-08, 2.6e-08]\n",
      "[2.6e-08, 4.593272224, 2.6e-08]\n",
      "[2.6e-08, 2.6e-08, 4.593272224]\n",
      "총 에너지: -3099.8595575 Ry\n"
     ]
    }
   ],
   "source": [
    "# 1. CIF 파일에서 Quantum ESPRESSO 입력 파일 생성\n",
    "cif_file = \"AuNP.cif\"\n",
    "qe_input_file = \"Au_vc-relax.in\"\n",
    "qe_output_file = \"Au_vc-relax.out\"\n",
    "pseudopotentials = \"\"\"\n",
    "Au  196.9665    Au.pbe-n-kjpaw_psl.1.0.0.UPF\n",
    "\"\"\"\n",
    "convert_cif_to_qe_input(cif_file, qe_input_file, pseudopotentials)\n",
    "\n",
    "# 2. Quantum ESPRESSO 실행\n",
    "run_qe(qe_input_file, qe_output_file)\n",
    "\n",
    "# 3. 결과 파일 분석\n",
    "cell_params, energy = parse_qe_output(qe_output_file)\n",
    "\n",
    "print(\"최종 셀 매개변수:\")\n",
    "for row in cell_params:\n",
    "    print(row)\n",
    "\n",
    "print(f\"총 에너지: {energy} Ry\")"
   ]
  },
  {
   "cell_type": "code",
   "execution_count": null,
   "metadata": {},
   "outputs": [],
   "source": []
  }
 ],
 "metadata": {
  "kernelspec": {
   "display_name": "Python 3",
   "language": "python",
   "name": "python3"
  },
  "language_info": {
   "codemirror_mode": {
    "name": "ipython",
    "version": 3
   },
   "file_extension": ".py",
   "mimetype": "text/x-python",
   "name": "python",
   "nbconvert_exporter": "python",
   "pygments_lexer": "ipython3",
   "version": "3.8.5"
  }
 },
 "nbformat": 4,
 "nbformat_minor": 4
}
